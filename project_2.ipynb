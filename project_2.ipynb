{
 "cells": [
  {
   "cell_type": "markdown",
   "id": "10ebc2b3",
   "metadata": {},
   "source": [
    "### Build a machine learning model to predict the likelihood of heart disease given a set of parameters.Model must at least be 85% on all scoring parametres. Include a detail EDA in your solution and track you progress via GitHub"
   ]
  }
 ],
 "metadata": {
  "kernelspec": {
   "display_name": "Python 3 (ipykernel)",
   "language": "python",
   "name": "python3"
  },
  "language_info": {
   "codemirror_mode": {
    "name": "ipython",
    "version": 3
   },
   "file_extension": ".py",
   "mimetype": "text/x-python",
   "name": "python",
   "nbconvert_exporter": "python",
   "pygments_lexer": "ipython3",
   "version": "3.9.7"
  }
 },
 "nbformat": 4,
 "nbformat_minor": 5
}
